{
  "nbformat": 4,
  "nbformat_minor": 0,
  "metadata": {
    "colab": {
      "provenance": [],
      "toc_visible": true
    },
    "kernelspec": {
      "name": "python3",
      "display_name": "Python 3"
    },
    "language_info": {
      "name": "python"
    }
  },
  "cells": [
    {
      "cell_type": "markdown",
      "source": [
        "# Python Introduction"
      ],
      "metadata": {
        "id": "ZeJf-If1yNKq"
      }
    },
    {
      "cell_type": "markdown",
      "source": [
        "## 1. Numbers: Integers and Floats\n",
        "\n",
        "\n",
        "Numbers in Python are mainly of two types:\n",
        "\n",
        "- int  → Whole numbers like 1, -5, 0\n",
        "\n",
        "- float → Decimal numbers like 2.3, -4.5  \n",
        "\n",
        "\n"
      ],
      "metadata": {
        "id": "1HzsJ6GzNbJ6"
      }
    },
    {
      "cell_type": "code",
      "source": [
        "print(5)        # int\n",
        "print(3.14)     # float"
      ],
      "metadata": {
        "id": "QMl6OfrKNeBH",
        "colab": {
          "base_uri": "https://localhost:8080/"
        },
        "outputId": "c5c9e679-c933-472d-fa30-a2d4e2a8b354"
      },
      "execution_count": 1,
      "outputs": [
        {
          "output_type": "stream",
          "name": "stdout",
          "text": [
            "5\n",
            "3.14\n"
          ]
        }
      ]
    },
    {
      "cell_type": "code",
      "source": [
        "# checking data types:\n",
        "\n",
        "print(type(5))      # <class 'int'>\n",
        "print(type(3.14))   # <class 'float'>"
      ],
      "metadata": {
        "id": "YeVfvH6XNgs8",
        "colab": {
          "base_uri": "https://localhost:8080/"
        },
        "outputId": "33a770a3-5e84-405c-ceb9-65005ac7b745"
      },
      "execution_count": 2,
      "outputs": [
        {
          "output_type": "stream",
          "name": "stdout",
          "text": [
            "<class 'int'>\n",
            "<class 'float'>\n"
          ]
        }
      ]
    },
    {
      "cell_type": "code",
      "source": [
        "# arithmetic operations:\n",
        "\n",
        "print(3 + 2.5)      # 5.5\n",
        "print(4 * 10)       # 40\n",
        "print(10 / 2)       # 5.0\n",
        "print(2 ** 3)       # 8\n",
        "print(7 % 2)        # 1"
      ],
      "metadata": {
        "id": "rQ7cot-2NnCY",
        "colab": {
          "base_uri": "https://localhost:8080/"
        },
        "outputId": "3b83f2ea-4393-49a3-b385-b91d5079987f"
      },
      "execution_count": 3,
      "outputs": [
        {
          "output_type": "stream",
          "name": "stdout",
          "text": [
            "5.5\n",
            "40\n",
            "5.0\n",
            "8\n",
            "1\n"
          ]
        }
      ]
    },
    {
      "cell_type": "markdown",
      "source": [
        "## 2. Strings\n",
        "\n",
        "A string is text enclosed in quotes."
      ],
      "metadata": {
        "id": "3SUll84cNvMy"
      }
    },
    {
      "cell_type": "code",
      "source": [
        "name = \"Jane Doe\"\n",
        "print(name)"
      ],
      "metadata": {
        "id": "BIPsO1ULN1E1",
        "colab": {
          "base_uri": "https://localhost:8080/"
        },
        "outputId": "f1394e98-6958-4890-e55d-fb8ad76c6318"
      },
      "execution_count": 4,
      "outputs": [
        {
          "output_type": "stream",
          "name": "stdout",
          "text": [
            "Jane Doe\n"
          ]
        }
      ]
    },
    {
      "cell_type": "code",
      "source": [
        "# concatenating strings\n",
        "print(\"Hello\" + \" \" + \"\")"
      ],
      "metadata": {
        "id": "W0ZQmf4mOZaN",
        "colab": {
          "base_uri": "https://localhost:8080/"
        },
        "outputId": "e746918c-5e30-4708-f110-9f6ae3ffaf9c"
      },
      "execution_count": 5,
      "outputs": [
        {
          "output_type": "stream",
          "name": "stdout",
          "text": [
            "Hello \n"
          ]
        }
      ]
    },
    {
      "cell_type": "code",
      "source": [
        "# repeating strings\n",
        "print(\"Welcome! \" * 3)"
      ],
      "metadata": {
        "id": "MQ6T4hJGOakl",
        "colab": {
          "base_uri": "https://localhost:8080/"
        },
        "outputId": "e5e0d2b9-4bc3-4c63-ac93-80805be951e0"
      },
      "execution_count": 6,
      "outputs": [
        {
          "output_type": "stream",
          "name": "stdout",
          "text": [
            "Welcome! Welcome! Welcome! \n"
          ]
        }
      ]
    },
    {
      "cell_type": "markdown",
      "source": [
        "## 3. Variable Assignment"
      ],
      "metadata": {
        "id": "_SEYlTzjOgi-"
      }
    },
    {
      "cell_type": "code",
      "source": [
        "# assigning values to variables\n",
        "number = 10\n",
        "name = \"Jane Doe\"\n",
        "print(number)\n",
        "print(name)"
      ],
      "metadata": {
        "id": "87QE4OTeOn7N",
        "colab": {
          "base_uri": "https://localhost:8080/"
        },
        "outputId": "08eb4e00-b83e-4902-efb9-4e8ea6a72600"
      },
      "execution_count": 7,
      "outputs": [
        {
          "output_type": "stream",
          "name": "stdout",
          "text": [
            "10\n",
            "Jane Doe\n"
          ]
        }
      ]
    },
    {
      "cell_type": "code",
      "source": [
        "# updating a variable\n",
        "number = number + 5\n",
        "number += 5\n",
        "print(number)"
      ],
      "metadata": {
        "id": "Znts8sP8OqHB",
        "colab": {
          "base_uri": "https://localhost:8080/"
        },
        "outputId": "c68edcb8-25c9-46c6-acf1-e0a398984128"
      },
      "execution_count": 8,
      "outputs": [
        {
          "output_type": "stream",
          "name": "stdout",
          "text": [
            "20\n"
          ]
        }
      ]
    },
    {
      "cell_type": "markdown",
      "source": [
        "## 4. String Operations"
      ],
      "metadata": {
        "id": "SwzsXkI9OsSv"
      }
    },
    {
      "cell_type": "code",
      "source": [
        "name = \"Jane Doe\"\n",
        "print(len(name))           # character count\n",
        "print(name.upper())        # to uppercase\n",
        "print(name.capitalize())   # first letter capitalized\n",
        "print(name.replace(\"n\", \"N\"))  # replace letter"
      ],
      "metadata": {
        "id": "IZmC1CxzOreg",
        "colab": {
          "base_uri": "https://localhost:8080/"
        },
        "outputId": "78fa114e-b00b-4b38-d1d1-f497689ac0ab"
      },
      "execution_count": 9,
      "outputs": [
        {
          "output_type": "stream",
          "name": "stdout",
          "text": [
            "8\n",
            "JANE DOE\n",
            "Jane doe\n",
            "JaNe Doe\n"
          ]
        }
      ]
    },
    {
      "cell_type": "markdown",
      "source": [
        "## 5. Indexing and Slicing"
      ],
      "metadata": {
        "id": "RVql4jZ9O29O"
      }
    },
    {
      "cell_type": "code",
      "source": [
        "word = \"Python\"\n",
        "print(word[0])     # first character\n",
        "print(word[-1])    # last character\n",
        "print(word[1:4])   # characters from index 1 to 3"
      ],
      "metadata": {
        "id": "V6xBeDT7OxI-",
        "colab": {
          "base_uri": "https://localhost:8080/"
        },
        "outputId": "4f501e35-7620-4d70-cc65-64031c329ce5"
      },
      "execution_count": 10,
      "outputs": [
        {
          "output_type": "stream",
          "name": "stdout",
          "text": [
            "P\n",
            "n\n",
            "yth\n"
          ]
        }
      ]
    },
    {
      "cell_type": "markdown",
      "source": [
        "## 6. Print Function"
      ],
      "metadata": {
        "id": "MQSoU68qO-4w"
      }
    },
    {
      "cell_type": "code",
      "source": [
        "# printing multiple items\n",
        "name = \"Jane Doe\"\n",
        "print(\"Welcome\", name)"
      ],
      "metadata": {
        "id": "Utpg4yn9O9G2",
        "colab": {
          "base_uri": "https://localhost:8080/"
        },
        "outputId": "a02f992b-fb15-4e21-b203-c1be57910c58"
      },
      "execution_count": 11,
      "outputs": [
        {
          "output_type": "stream",
          "name": "stdout",
          "text": [
            "Welcome Jane Doe\n"
          ]
        }
      ]
    },
    {
      "cell_type": "code",
      "source": [
        "# using separators\n",
        "print(\"First\", \"Last\", sep=\"-\")  # first-Last"
      ],
      "metadata": {
        "id": "EObMiirVPBsk",
        "colab": {
          "base_uri": "https://localhost:8080/"
        },
        "outputId": "d851a627-a750-4c42-d6f4-bdd9806a745a"
      },
      "execution_count": 12,
      "outputs": [
        {
          "output_type": "stream",
          "name": "stdout",
          "text": [
            "First-Last\n"
          ]
        }
      ]
    },
    {
      "cell_type": "markdown",
      "source": [
        "## 7. Input Function (User Input)"
      ],
      "metadata": {
        "id": "mQEyn1kZPFyP"
      }
    },
    {
      "cell_type": "code",
      "source": [
        "name = input(\"Enter your name: \")\n",
        "print(\"Welcome\", name)"
      ],
      "metadata": {
        "id": "Gji_2RaAPEM_",
        "colab": {
          "base_uri": "https://localhost:8080/"
        },
        "outputId": "fecfaf0d-a87d-4504-ba57-0aa189c87e94"
      },
      "execution_count": 13,
      "outputs": [
        {
          "output_type": "stream",
          "name": "stdout",
          "text": [
            "Enter your name: Jane Doe\n",
            "Welcome Jane Doe\n"
          ]
        }
      ]
    },
    {
      "cell_type": "code",
      "source": [
        "age = int(input(\"Enter your age: \"))\n",
        "print(\"Next year, you will be\", age + 1)"
      ],
      "metadata": {
        "id": "5DvsxXN5PKpD",
        "colab": {
          "base_uri": "https://localhost:8080/"
        },
        "outputId": "c480099f-2b12-4ad6-a96f-15cb0240f64d"
      },
      "execution_count": 14,
      "outputs": [
        {
          "output_type": "stream",
          "name": "stdout",
          "text": [
            "Enter your age: 22\n",
            "Next year, you will be 23\n"
          ]
        }
      ]
    },
    {
      "cell_type": "markdown",
      "source": [
        "## 8. Loops"
      ],
      "metadata": {
        "id": "wkXw-nHA_J2v"
      }
    },
    {
      "cell_type": "markdown",
      "source": [
        "### For Loop"
      ],
      "metadata": {
        "id": "Sp9nFEcV_Pqa"
      }
    },
    {
      "cell_type": "code",
      "source": [
        "# basic usage\n",
        "fruits = [\"apple\", \"banana\", \"cherry\"]\n",
        "for fruit in fruits:\n",
        "    print(\"Fruit:\", fruit)"
      ],
      "metadata": {
        "colab": {
          "base_uri": "https://localhost:8080/"
        },
        "id": "sJnICDHn_NrN",
        "outputId": "8cc529cb-6e53-41dc-f3b7-93bfb2138932"
      },
      "execution_count": 15,
      "outputs": [
        {
          "output_type": "stream",
          "name": "stdout",
          "text": [
            "Fruit: apple\n",
            "Fruit: banana\n",
            "Fruit: cherry\n"
          ]
        }
      ]
    },
    {
      "cell_type": "code",
      "source": [
        "# 2. for loop with range\n",
        "for i in range(5):\n",
        "    print(\"Number:\", i)"
      ],
      "metadata": {
        "colab": {
          "base_uri": "https://localhost:8080/"
        },
        "id": "kAz9Yw9Q_Xei",
        "outputId": "d089b0d1-8f4a-4518-9b06-d551bb37f69e"
      },
      "execution_count": 16,
      "outputs": [
        {
          "output_type": "stream",
          "name": "stdout",
          "text": [
            "Number: 0\n",
            "Number: 1\n",
            "Number: 2\n",
            "Number: 3\n",
            "Number: 4\n"
          ]
        }
      ]
    },
    {
      "cell_type": "code",
      "source": [
        "# looping with indexes – using enumerate\n",
        "for index, fruit in enumerate(fruits):\n",
        "    print(f\"Fruit at index {index}: {fruit}\")"
      ],
      "metadata": {
        "colab": {
          "base_uri": "https://localhost:8080/"
        },
        "id": "VA-mF8BV_ZWt",
        "outputId": "2a4ffd25-dc5d-4f01-94bf-670dfb2ff1fe"
      },
      "execution_count": 17,
      "outputs": [
        {
          "output_type": "stream",
          "name": "stdout",
          "text": [
            "Fruit at index 0: apple\n",
            "Fruit at index 1: banana\n",
            "Fruit at index 2: cherry\n"
          ]
        }
      ]
    },
    {
      "cell_type": "code",
      "source": [
        "# nested for loops – multiplication table\n",
        "print(\"Multiplication Table:\")\n",
        "for i in range(1, 4):\n",
        "    for j in range(1, 4):\n",
        "        print(f\"{i} x {j} = {i*j}\")\n",
        "    print(\"-----\")"
      ],
      "metadata": {
        "colab": {
          "base_uri": "https://localhost:8080/"
        },
        "id": "wLrqkQap_b1d",
        "outputId": "f4fcdb96-1079-499f-9d96-72f488e2b156"
      },
      "execution_count": 18,
      "outputs": [
        {
          "output_type": "stream",
          "name": "stdout",
          "text": [
            "Multiplication Table:\n",
            "1 x 1 = 1\n",
            "1 x 2 = 2\n",
            "1 x 3 = 3\n",
            "-----\n",
            "2 x 1 = 2\n",
            "2 x 2 = 4\n",
            "2 x 3 = 6\n",
            "-----\n",
            "3 x 1 = 3\n",
            "3 x 2 = 6\n",
            "3 x 3 = 9\n",
            "-----\n"
          ]
        }
      ]
    },
    {
      "cell_type": "markdown",
      "source": [
        "### While Loop\n",
        "\n",
        "A while loop continues to run as long as a condition is true."
      ],
      "metadata": {
        "id": "v4jwW1L8CMeM"
      }
    },
    {
      "cell_type": "code",
      "source": [
        "count = 0\n",
        "while count < 5:\n",
        "    print(\"Count is:\", count)\n",
        "    count += 1"
      ],
      "metadata": {
        "colab": {
          "base_uri": "https://localhost:8080/"
        },
        "id": "mIOorMOYCUcY",
        "outputId": "a4439a21-76ff-450e-9575-f8df69a86797"
      },
      "execution_count": 19,
      "outputs": [
        {
          "output_type": "stream",
          "name": "stdout",
          "text": [
            "Count is: 0\n",
            "Count is: 1\n",
            "Count is: 2\n",
            "Count is: 3\n",
            "Count is: 4\n"
          ]
        }
      ]
    },
    {
      "cell_type": "markdown",
      "source": [
        "## 9. List Comprehensions"
      ],
      "metadata": {
        "id": "2cEB6dKu_m5A"
      }
    },
    {
      "cell_type": "code",
      "source": [
        "# simple filtering\n",
        "numbers = [1, 2, 3, 4, 5, 6]\n",
        "squares = [n**2 for n in numbers]\n",
        "evens = [n for n in numbers if n % 2 == 0]\n",
        "print(\"Squares:\", squares)\n",
        "print(\"Even numbers:\", evens)"
      ],
      "metadata": {
        "colab": {
          "base_uri": "https://localhost:8080/"
        },
        "id": "nSJcbtCJ_it3",
        "outputId": "024176ad-aab9-493a-eb9e-031cbd3d706f"
      },
      "execution_count": 20,
      "outputs": [
        {
          "output_type": "stream",
          "name": "stdout",
          "text": [
            "Squares: [1, 4, 9, 16, 25, 36]\n",
            "Even numbers: [2, 4, 6]\n"
          ]
        }
      ]
    },
    {
      "cell_type": "code",
      "source": [
        "# nested\n",
        "matrix = [[i*j for j in range(1, 4)] for i in range(1, 4)]\n",
        "print(\"Matrix:\", matrix)"
      ],
      "metadata": {
        "colab": {
          "base_uri": "https://localhost:8080/"
        },
        "id": "wBtcgSKh_qHO",
        "outputId": "2abdb669-3f72-43bb-c6c2-358ab6116ff3"
      },
      "execution_count": 21,
      "outputs": [
        {
          "output_type": "stream",
          "name": "stdout",
          "text": [
            "Matrix: [[1, 2, 3], [2, 4, 6], [3, 6, 9]]\n"
          ]
        }
      ]
    },
    {
      "cell_type": "markdown",
      "source": [
        "## 10. Functions"
      ],
      "metadata": {
        "id": "qcuHrzjP_wRP"
      }
    },
    {
      "cell_type": "code",
      "source": [
        "# defining a function\n",
        "def greet(name):\n",
        "    print(\"Hello,\", name)\n",
        "\n",
        "greet(\"Jane Doe\")"
      ],
      "metadata": {
        "colab": {
          "base_uri": "https://localhost:8080/"
        },
        "id": "P81tafKK_sR1",
        "outputId": "48e6d738-d61a-4a3b-cef1-ee41309d5b2f"
      },
      "execution_count": 22,
      "outputs": [
        {
          "output_type": "stream",
          "name": "stdout",
          "text": [
            "Hello, Jane Doe\n"
          ]
        }
      ]
    },
    {
      "cell_type": "code",
      "source": [
        "# function with return value\n",
        "def square(n):\n",
        "    return n * n\n",
        "\n",
        "result = square(5)\n",
        "print(\"Square of 5:\", result)"
      ],
      "metadata": {
        "colab": {
          "base_uri": "https://localhost:8080/"
        },
        "id": "wLJjZ5A2_5W6",
        "outputId": "2dc6c96c-ef97-4658-e660-81341d32dacd"
      },
      "execution_count": 23,
      "outputs": [
        {
          "output_type": "stream",
          "name": "stdout",
          "text": [
            "Square of 5: 25\n"
          ]
        }
      ]
    },
    {
      "cell_type": "code",
      "source": [
        "# function with default argument\n",
        "def welcome(name=\"Guest\"):\n",
        "    print(\"Welcome,\", name)\n",
        "\n",
        "welcome(\"Jane Doe\")\n",
        "welcome()"
      ],
      "metadata": {
        "colab": {
          "base_uri": "https://localhost:8080/"
        },
        "id": "9rZFu_nW_92h",
        "outputId": "e8f87c14-f666-4da4-8679-ee55aaa53e98"
      },
      "execution_count": 24,
      "outputs": [
        {
          "output_type": "stream",
          "name": "stdout",
          "text": [
            "Welcome, Jane Doe\n",
            "Welcome, Guest\n"
          ]
        }
      ]
    },
    {
      "cell_type": "code",
      "source": [
        "# function with Multiple Parameters\n",
        "def calculate_area(width, height):\n",
        "    return width * height\n",
        "\n",
        "area = calculate_area(5, 3)\n",
        "print(\"Area:\", area)\n",
        "\n"
      ],
      "metadata": {
        "colab": {
          "base_uri": "https://localhost:8080/"
        },
        "id": "n1YbuDKaAHVV",
        "outputId": "79531e3c-3d25-49ad-e932-3b248a024c20"
      },
      "execution_count": 25,
      "outputs": [
        {
          "output_type": "stream",
          "name": "stdout",
          "text": [
            "Area: 15\n"
          ]
        }
      ]
    },
    {
      "cell_type": "code",
      "source": [
        "# lambda Function – inline small function\n",
        "add = lambda x, y: x + y\n",
        "print(\"Lambda Add:\", add(2, 3))"
      ],
      "metadata": {
        "colab": {
          "base_uri": "https://localhost:8080/"
        },
        "id": "GX2elzsZANWr",
        "outputId": "5e5130a4-3d15-4a66-86ee-cb88f8b1701e"
      },
      "execution_count": 26,
      "outputs": [
        {
          "output_type": "stream",
          "name": "stdout",
          "text": [
            "Lambda Add: 5\n"
          ]
        }
      ]
    },
    {
      "cell_type": "markdown",
      "source": [
        "## 11. Conditional Statements\n",
        "\n",
        "Conditional statements help you make decisions in your program:"
      ],
      "metadata": {
        "id": "VPAFE-2WCcfQ"
      }
    },
    {
      "cell_type": "code",
      "source": [
        "age = 20\n",
        "\n",
        "if age < 18:\n",
        "    print(\"Minor\")\n",
        "elif age < 65:\n",
        "    print(\"Adult\")\n",
        "else:\n",
        "    print(\"Senior\")\n"
      ],
      "metadata": {
        "colab": {
          "base_uri": "https://localhost:8080/"
        },
        "id": "9YCCJYiLAQNY",
        "outputId": "cf1e7a19-80b4-4c7e-acd7-644a1ccd1c8b"
      },
      "execution_count": 27,
      "outputs": [
        {
          "output_type": "stream",
          "name": "stdout",
          "text": [
            "Adult\n"
          ]
        }
      ]
    },
    {
      "cell_type": "markdown",
      "source": [
        "## 12. Built-in Functions\n",
        "\n",
        "Python provides many built-in functions to work with data."
      ],
      "metadata": {
        "id": "ISr6P7UhCuC8"
      }
    },
    {
      "cell_type": "code",
      "source": [
        "numbers = [3, 7, 2, 9, 4]\n",
        "\n",
        "print(\"Max:\", max(numbers))       # Largest number\n",
        "print(\"Min:\", min(numbers))       # Smallest number\n",
        "print(\"Sum:\", sum(numbers))       # Total of all elements\n",
        "print(\"Length:\", len(numbers))    # Number of elements\n",
        "print(\"Type of numbers:\", type(numbers))  # Type of the variable"
      ],
      "metadata": {
        "colab": {
          "base_uri": "https://localhost:8080/"
        },
        "id": "jCemTeROCvPT",
        "outputId": "0abd232f-baae-4acf-872a-c35da6ec5705"
      },
      "execution_count": 28,
      "outputs": [
        {
          "output_type": "stream",
          "name": "stdout",
          "text": [
            "Max: 9\n",
            "Min: 2\n",
            "Sum: 25\n",
            "Length: 5\n",
            "Type of numbers: <class 'list'>\n"
          ]
        }
      ]
    },
    {
      "cell_type": "markdown",
      "source": [
        "## 13. Type Casting\n",
        "\n",
        "Convert between data types using casting functions:"
      ],
      "metadata": {
        "id": "tglzVE1WC8ir"
      }
    },
    {
      "cell_type": "code",
      "source": [
        "x = \"5\"\n",
        "y = int(x)        # convert string to integer\n",
        "z = float(x)      # convert string to float\n",
        "\n",
        "print(\"Converted to int:\", y)\n",
        "print(\"Converted to float:\", z)"
      ],
      "metadata": {
        "colab": {
          "base_uri": "https://localhost:8080/"
        },
        "id": "6bCvSFdZC59D",
        "outputId": "1ceb7f52-e724-4e36-ead6-9e77c9282f59"
      },
      "execution_count": 29,
      "outputs": [
        {
          "output_type": "stream",
          "name": "stdout",
          "text": [
            "Converted to int: 5\n",
            "Converted to float: 5.0\n"
          ]
        }
      ]
    },
    {
      "cell_type": "markdown",
      "source": [
        "## 14. Boolean Logic & Comparison Operators"
      ],
      "metadata": {
        "id": "0E-qV7LxDF1N"
      }
    },
    {
      "cell_type": "code",
      "source": [
        "# comparison operators\n",
        "\n",
        "a = 10\n",
        "b = 5\n",
        "\n",
        "print(a > b)      # true\n",
        "print(a == b)     # false\n",
        "print(a != b)     # true\n"
      ],
      "metadata": {
        "colab": {
          "base_uri": "https://localhost:8080/"
        },
        "id": "nrzX75X8DFiu",
        "outputId": "59013b69-99a5-4ef7-db96-03f3d2c1d12c"
      },
      "execution_count": 30,
      "outputs": [
        {
          "output_type": "stream",
          "name": "stdout",
          "text": [
            "True\n",
            "False\n",
            "True\n"
          ]
        }
      ]
    },
    {
      "cell_type": "code",
      "source": [
        "# logical operators\n",
        "\n",
        "print(a > 5 and b < 10)   # true\n",
        "print(a < 5 or b < 10)    # true\n",
        "print(not a == b)         # true\n"
      ],
      "metadata": {
        "colab": {
          "base_uri": "https://localhost:8080/"
        },
        "id": "D__pZwPrDDmg",
        "outputId": "ca4b430c-914b-4a5b-84e2-13e78c68174d"
      },
      "execution_count": 31,
      "outputs": [
        {
          "output_type": "stream",
          "name": "stdout",
          "text": [
            "True\n",
            "True\n",
            "True\n"
          ]
        }
      ]
    }
  ]
}