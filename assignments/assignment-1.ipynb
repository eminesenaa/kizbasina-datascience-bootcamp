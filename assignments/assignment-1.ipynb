{
  "cells": [
    {
      "cell_type": "markdown",
      "id": "a4efca7a",
      "metadata": {
        "id": "a4efca7a"
      },
      "source": [
        "## Pozitif, Negatif, Sıfır"
      ]
    },
    {
      "cell_type": "code",
      "execution_count": 1,
      "id": "2226d8f2",
      "metadata": {
        "colab": {
          "base_uri": "https://localhost:8080/"
        },
        "id": "2226d8f2",
        "outputId": "45b82dcc-55ae-4fe5-d5c6-a963b65d1e65"
      },
      "outputs": [
        {
          "output_type": "stream",
          "name": "stdout",
          "text": [
            "Bir sayı girin: 5\n",
            "Pozitif\n"
          ]
        }
      ],
      "source": [
        "\n",
        "sayi = int(input(\"Bir sayı girin: \"))\n",
        "if sayi > 0:\n",
        "    print(\"Pozitif\")\n",
        "elif sayi < 0:\n",
        "    print(\"Negatif\")\n",
        "else:\n",
        "    print(\"Sıfır\")\n"
      ]
    },
    {
      "cell_type": "markdown",
      "id": "962d2af6",
      "metadata": {
        "id": "962d2af6"
      },
      "source": [
        "## Tek mi Çift mi"
      ]
    },
    {
      "cell_type": "code",
      "execution_count": 2,
      "id": "44b46756",
      "metadata": {
        "colab": {
          "base_uri": "https://localhost:8080/"
        },
        "id": "44b46756",
        "outputId": "484286c2-657d-4861-8677-5a9d1b9bde7e"
      },
      "outputs": [
        {
          "output_type": "stream",
          "name": "stdout",
          "text": [
            "Bir sayı girin: 5\n",
            "Tek\n"
          ]
        }
      ],
      "source": [
        "\n",
        "sayi = int(input(\"Bir sayı girin: \"))\n",
        "if sayi % 2 == 0:\n",
        "    print(\"Çift\")\n",
        "else:\n",
        "    print(\"Tek\")\n"
      ]
    },
    {
      "cell_type": "markdown",
      "id": "51320075",
      "metadata": {
        "id": "51320075"
      },
      "source": [
        "## 3. Not Harf Karşılığı"
      ]
    },
    {
      "cell_type": "code",
      "execution_count": 3,
      "id": "53d1afe3",
      "metadata": {
        "colab": {
          "base_uri": "https://localhost:8080/"
        },
        "id": "53d1afe3",
        "outputId": "66c6ecb7-09ed-4c82-bb6b-4895bf5180b1"
      },
      "outputs": [
        {
          "output_type": "stream",
          "name": "stdout",
          "text": [
            "Notunuzu girin (0-100): 90\n",
            "A\n"
          ]
        }
      ],
      "source": [
        "\n",
        "not_ = int(input(\"Notunuzu girin (0-100): \"))\n",
        "if 80 <= not_ <= 100:\n",
        "    print(\"A\")\n",
        "elif 60 <= not_ < 80:\n",
        "    print(\"B\")\n",
        "elif 40 <= not_ < 60:\n",
        "    print(\"C\")\n",
        "else:\n",
        "    print(\"F\")\n"
      ]
    },
    {
      "cell_type": "markdown",
      "id": "994484c9",
      "metadata": {
        "id": "994484c9"
      },
      "source": [
        "## İsim Uzunluğu"
      ]
    },
    {
      "cell_type": "code",
      "execution_count": 4,
      "id": "fe920415",
      "metadata": {
        "colab": {
          "base_uri": "https://localhost:8080/"
        },
        "id": "fe920415",
        "outputId": "a962182c-fa76-4d34-bf7b-ff677e89deb6"
      },
      "outputs": [
        {
          "output_type": "stream",
          "name": "stdout",
          "text": [
            "İsminizi girin: sena\n",
            "İsminiz: sena\n"
          ]
        }
      ],
      "source": [
        "\n",
        "isim = input(\"İsminizi girin: \")\n",
        "if len(isim) > 5:\n",
        "    print(\"Uzun bir isminiz var.\")\n",
        "else:\n",
        "    print(\"İsminiz:\", isim)\n"
      ]
    },
    {
      "cell_type": "markdown",
      "id": "c115c738",
      "metadata": {
        "id": "c115c738"
      },
      "source": [
        "## Asal mı? (for)"
      ]
    },
    {
      "cell_type": "code",
      "execution_count": 5,
      "id": "e41e69c6",
      "metadata": {
        "colab": {
          "base_uri": "https://localhost:8080/"
        },
        "id": "e41e69c6",
        "outputId": "bbebc5a0-0a2c-4f67-f1e0-a342facccdf3"
      },
      "outputs": [
        {
          "output_type": "stream",
          "name": "stdout",
          "text": [
            "Bir sayı girin: 29\n",
            "Asal\n"
          ]
        }
      ],
      "source": [
        "\n",
        "sayi = int(input(\"Bir sayı girin: \"))\n",
        "if sayi < 2:\n",
        "    print(\"Asal değil\")\n",
        "else:\n",
        "    for i in range(2, sayi):\n",
        "        if sayi % i == 0:\n",
        "            print(\"Asal değil\")\n",
        "            break\n",
        "    else:\n",
        "        print(\"Asal\")\n"
      ]
    },
    {
      "cell_type": "markdown",
      "id": "f77a10c3",
      "metadata": {
        "id": "f77a10c3"
      },
      "source": [
        "## Asal mı? (while)"
      ]
    },
    {
      "cell_type": "code",
      "execution_count": 6,
      "id": "591d6e90",
      "metadata": {
        "colab": {
          "base_uri": "https://localhost:8080/"
        },
        "id": "591d6e90",
        "outputId": "ef52c1db-3198-4649-8e4d-1de398a4e2bf"
      },
      "outputs": [
        {
          "output_type": "stream",
          "name": "stdout",
          "text": [
            "Bir sayı girin: 29\n",
            "Asal\n"
          ]
        }
      ],
      "source": [
        "\n",
        "sayi = int(input(\"Bir sayı girin: \"))\n",
        "i = 2\n",
        "asal = True\n",
        "if sayi < 2:\n",
        "    print(\"Asal değil\")\n",
        "else:\n",
        "    while i < sayi:\n",
        "        if sayi % i == 0:\n",
        "            asal = False\n",
        "            break\n",
        "        i += 1\n",
        "    if asal:\n",
        "        print(\"Asal\")\n",
        "    else:\n",
        "        print(\"Asal değil\")\n"
      ]
    },
    {
      "cell_type": "markdown",
      "id": "9034c634",
      "metadata": {
        "id": "9034c634"
      },
      "source": [
        "## 75'in İndeksini Bul"
      ]
    },
    {
      "cell_type": "code",
      "execution_count": 7,
      "id": "3b02b132",
      "metadata": {
        "colab": {
          "base_uri": "https://localhost:8080/"
        },
        "id": "3b02b132",
        "outputId": "776d36f8-0a7c-41b5-b9d3-cf01e46a2b33"
      },
      "outputs": [
        {
          "output_type": "stream",
          "name": "stdout",
          "text": [
            "75'in indeksi: 2\n"
          ]
        }
      ],
      "source": [
        "\n",
        "notlar = [45, 85, 75, 50]\n",
        "for i in range(len(notlar)):\n",
        "    if notlar[i] == 75:\n",
        "        print(\"75'in indeksi:\", i)\n",
        "        break\n"
      ]
    },
    {
      "cell_type": "markdown",
      "id": "9762357c",
      "metadata": {
        "id": "9762357c"
      },
      "source": [
        "## Faktöriyel (for)"
      ]
    },
    {
      "cell_type": "code",
      "execution_count": 8,
      "id": "3c24ccf4",
      "metadata": {
        "colab": {
          "base_uri": "https://localhost:8080/"
        },
        "id": "3c24ccf4",
        "outputId": "090659e2-8ba3-4ff6-db21-16d7b8ff8128"
      },
      "outputs": [
        {
          "output_type": "stream",
          "name": "stdout",
          "text": [
            "Faktöriyeli alınacak sayı: 6\n",
            "Faktöriyel: 720\n"
          ]
        }
      ],
      "source": [
        "\n",
        "sayi = int(input(\"Faktöriyeli alınacak sayı: \"))\n",
        "faktoriyel = 1\n",
        "for i in range(1, sayi + 1):\n",
        "    faktoriyel *= i\n",
        "print(\"Faktöriyel:\", faktoriyel)\n"
      ]
    },
    {
      "cell_type": "markdown",
      "id": "de411856",
      "metadata": {
        "id": "de411856"
      },
      "source": [
        "## Faktöriyel (while)"
      ]
    },
    {
      "cell_type": "code",
      "execution_count": 9,
      "id": "7f9b2e58",
      "metadata": {
        "colab": {
          "base_uri": "https://localhost:8080/"
        },
        "id": "7f9b2e58",
        "outputId": "7e30b56d-cdd3-4f74-e7d1-1dc6d9ae34e3"
      },
      "outputs": [
        {
          "output_type": "stream",
          "name": "stdout",
          "text": [
            "Faktöriyeli alınacak sayı: 6\n",
            "Faktöriyel: 720\n"
          ]
        }
      ],
      "source": [
        "\n",
        "sayi = int(input(\"Faktöriyeli alınacak sayı: \"))\n",
        "faktoriyel = 1\n",
        "i = 1\n",
        "while i <= sayi:\n",
        "    faktoriyel *= i\n",
        "    i += 1\n",
        "print(\"Faktöriyel:\", faktoriyel)\n"
      ]
    },
    {
      "cell_type": "markdown",
      "id": "5650e43c",
      "metadata": {
        "id": "5650e43c"
      },
      "source": [
        "## Pozitif Sayı Girilene Kadar"
      ]
    },
    {
      "cell_type": "code",
      "execution_count": 10,
      "id": "4da9959d",
      "metadata": {
        "colab": {
          "base_uri": "https://localhost:8080/"
        },
        "id": "4da9959d",
        "outputId": "d82e5873-1e96-44b8-efe8-3744f39e8aab"
      },
      "outputs": [
        {
          "output_type": "stream",
          "name": "stdout",
          "text": [
            "Pozitif bir sayı girin: -16\n",
            "Negatif girdiniz, tekrar deneyin.\n",
            "Pozitif bir sayı girin: 8\n",
            "Teşekkürler, pozitif sayı girdiniz: 8\n"
          ]
        }
      ],
      "source": [
        "\n",
        "for _ in range(100):\n",
        "    sayi = int(input(\"Pozitif bir sayı girin: \"))\n",
        "    if sayi > 0:\n",
        "        print(\"Teşekkürler, pozitif sayı girdiniz:\", sayi)\n",
        "        break\n",
        "    else:\n",
        "        print(\"Negatif girdiniz, tekrar deneyin.\")\n"
      ]
    },
    {
      "cell_type": "markdown",
      "id": "c4d18045",
      "metadata": {
        "id": "c4d18045"
      },
      "source": [
        "## Fonksiyonla Asal (for)"
      ]
    },
    {
      "cell_type": "code",
      "execution_count": 11,
      "id": "956ab975",
      "metadata": {
        "colab": {
          "base_uri": "https://localhost:8080/"
        },
        "id": "956ab975",
        "outputId": "adcbe483-a009-495b-b37d-bd74f7d54aa5"
      },
      "outputs": [
        {
          "output_type": "stream",
          "name": "stdout",
          "text": [
            "Bir sayı girin: 2\n",
            "True\n"
          ]
        }
      ],
      "source": [
        "\n",
        "def asal_mi(sayi):\n",
        "    if sayi < 2:\n",
        "        return False\n",
        "    for i in range(2, sayi):\n",
        "        if sayi % i == 0:\n",
        "            return False\n",
        "    return True\n",
        "\n",
        "print(asal_mi(int(input(\"Bir sayı girin: \"))))\n"
      ]
    },
    {
      "cell_type": "markdown",
      "id": "b2f7c8af",
      "metadata": {
        "id": "b2f7c8af"
      },
      "source": [
        "## Fonksiyonla Asal (while)"
      ]
    },
    {
      "cell_type": "code",
      "execution_count": 12,
      "id": "15c928c2",
      "metadata": {
        "colab": {
          "base_uri": "https://localhost:8080/"
        },
        "id": "15c928c2",
        "outputId": "18038db2-0809-4e3f-e077-093e1ce8f73d"
      },
      "outputs": [
        {
          "output_type": "stream",
          "name": "stdout",
          "text": [
            "Bir sayı girin: 19\n",
            "True\n"
          ]
        }
      ],
      "source": [
        "\n",
        "def asal_mi(sayi):\n",
        "    if sayi < 2:\n",
        "        return False\n",
        "    i = 2\n",
        "    while i < sayi:\n",
        "        if sayi % i == 0:\n",
        "            return False\n",
        "        i += 1\n",
        "    return True\n",
        "\n",
        "print(asal_mi(int(input(\"Bir sayı girin: \"))))\n"
      ]
    },
    {
      "cell_type": "markdown",
      "id": "d5dbd646",
      "metadata": {
        "id": "d5dbd646"
      },
      "source": [
        "## Fonksiyonla Faktöriyel (for)"
      ]
    },
    {
      "cell_type": "code",
      "execution_count": 13,
      "id": "4fa87e38",
      "metadata": {
        "colab": {
          "base_uri": "https://localhost:8080/"
        },
        "id": "4fa87e38",
        "outputId": "7688149c-952c-4abf-8394-f2381ce975db"
      },
      "outputs": [
        {
          "output_type": "stream",
          "name": "stdout",
          "text": [
            "Bir sayı girin: 9\n",
            "362880\n"
          ]
        }
      ],
      "source": [
        "\n",
        "def faktoriyel(sayi):\n",
        "    sonuc = 1\n",
        "    for i in range(1, sayi + 1):\n",
        "        sonuc *= i\n",
        "    return sonuc\n",
        "\n",
        "print(faktoriyel(int(input(\"Bir sayı girin: \"))))\n"
      ]
    },
    {
      "cell_type": "markdown",
      "id": "5fc944b4",
      "metadata": {
        "id": "5fc944b4"
      },
      "source": [
        "## Fonksiyonla Faktöriyel (while)"
      ]
    },
    {
      "cell_type": "code",
      "execution_count": 14,
      "id": "a41aa358",
      "metadata": {
        "colab": {
          "base_uri": "https://localhost:8080/"
        },
        "id": "a41aa358",
        "outputId": "f01ac619-da59-4b8e-9d02-d52e439ac697"
      },
      "outputs": [
        {
          "output_type": "stream",
          "name": "stdout",
          "text": [
            "Bir sayı girin: 6\n",
            "720\n"
          ]
        }
      ],
      "source": [
        "\n",
        "def faktoriyel(sayi):\n",
        "    sonuc = 1\n",
        "    i = 1\n",
        "    while i <= sayi:\n",
        "        sonuc *= i\n",
        "        i += 1\n",
        "    return sonuc\n",
        "\n",
        "print(faktoriyel(int(input(\"Bir sayı girin: \"))))\n"
      ]
    }
  ],
  "metadata": {
    "colab": {
      "provenance": []
    },
    "language_info": {
      "name": "python"
    },
    "kernelspec": {
      "name": "python3",
      "display_name": "Python 3"
    }
  },
  "nbformat": 4,
  "nbformat_minor": 5
}